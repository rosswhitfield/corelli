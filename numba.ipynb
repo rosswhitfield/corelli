{
 "cells": [
  {
   "cell_type": "code",
   "execution_count": 15,
   "metadata": {
    "collapsed": true
   },
   "outputs": [],
   "source": [
    "import numba\n",
    "import numpy as np\n",
    "from numba import jit\n",
    "from javelin.io import read_stru\n",
    "from javelin.grid import Grid"
   ]
  },
  {
   "cell_type": "code",
   "execution_count": 24,
   "metadata": {},
   "outputs": [
    {
     "name": "stdout",
     "output_type": "stream",
     "text": [
      "Found a = 4.06, b = 4.06, c = 4.06, alpha = 90.0, beta = 90.0, gamma = 90.0\n",
      "Read in these atoms:\n",
      "O     375000\n",
      "Pb    125000\n",
      "Nb     83679\n",
      "Zn     41321\n",
      "Name: symbol, dtype: int64\n"
     ]
    }
   ],
   "source": [
    "grid=Grid()\n",
    "\n",
    "\n",
    "pzn = read_stru('parts/check/pzn.stru')\n",
    "\n",
    "qx1, qy1, qz1 = grid.get_squashed_q_meshgrid()\n",
    "qx2, qy2, qz2 = grid.get_q_meshgrid()\n",
    "\n",
    "qx3 = qx2*1j\n",
    "qy3 = qy2*1j\n",
    "qz3 = qz2*1j\n",
    "\n",
    "positions = pzn.get_scaled_positions()[:1000]\n"
   ]
  },
  {
   "cell_type": "code",
   "execution_count": 25,
   "metadata": {},
   "outputs": [
    {
     "name": "stdout",
     "output_type": "stream",
     "text": [
      "array(float64, 2d, A)\n",
      "array(float64, 3d, C)\n",
      "array(complex128, 3d, C)\n"
     ]
    }
   ],
   "source": [
    "print(numba.typeof(positions))\n",
    "print(numba.typeof(qx1))\n",
    "print(numba.typeof(qx3))"
   ]
  },
  {
   "cell_type": "code",
   "execution_count": 26,
   "metadata": {
    "collapsed": true
   },
   "outputs": [],
   "source": [
    "def f1(positions, temp_array, qx, qy, qz):\n",
    "    for atom in positions:\n",
    "        dotx = np.exp(qx*atom[0]*1j)\n",
    "        doty = np.exp(qy*atom[1]*1j)\n",
    "        dotz = np.exp(qz*atom[2]*1j)\n",
    "        temp_array += dotx * doty * dotz"
   ]
  },
  {
   "cell_type": "code",
   "execution_count": 27,
   "metadata": {},
   "outputs": [
    {
     "name": "stdout",
     "output_type": "stream",
     "text": [
      "array(complex128, 3d, C)\n",
      "151 ms ± 3.89 ms per loop (mean ± std. dev. of 7 runs, 10 loops each)\n",
      "(339012649.203+463700871.401j)\n"
     ]
    }
   ],
   "source": [
    "temp_array = np.zeros(grid.bins, dtype=np.complex)\n",
    "print(numba.typeof(temp_array))\n",
    "%timeit f1(positions, temp_array, qx1, qy1, qz1)\n",
    "print(temp_array.sum())"
   ]
  },
  {
   "cell_type": "code",
   "execution_count": 5,
   "metadata": {
    "collapsed": true
   },
   "outputs": [],
   "source": [
    "def f2(positions, temp_array, qx, qy, qz):\n",
    "    for atom in positions:\n",
    "        dot = qx*atom[0] + qy*atom[1] + qz*atom[2]\n",
    "        temp_array += np.exp(dot*1j)"
   ]
  },
  {
   "cell_type": "code",
   "execution_count": 6,
   "metadata": {},
   "outputs": [
    {
     "name": "stdout",
     "output_type": "stream",
     "text": [
      "700 ms ± 629 µs per loop (mean ± std. dev. of 7 runs, 1 loop each)\n",
      "(33482730.7855+45797616.9285j)\n"
     ]
    }
   ],
   "source": [
    "temp_array = np.zeros(grid.bins, dtype=np.complex)\n",
    "%timeit f2(positions, temp_array, qx2, qy2, qz2)\n",
    "print(temp_array.sum())"
   ]
  },
  {
   "cell_type": "code",
   "execution_count": 18,
   "metadata": {
    "collapsed": true
   },
   "outputs": [],
   "source": [
    "def f3(positions, temp_array, qx, qy, qz):\n",
    "    for atom in positions:\n",
    "        dot = qx*atom[0] + qy*atom[1] + qz*atom[2]\n",
    "        temp_array += np.exp(dot)"
   ]
  },
  {
   "cell_type": "code",
   "execution_count": 19,
   "metadata": {},
   "outputs": [
    {
     "name": "stdout",
     "output_type": "stream",
     "text": [
      "743 ms ± 5.09 ms per loop (mean ± std. dev. of 7 runs, 1 loop each)\n",
      "(33482730.7855+45797616.9285j)\n"
     ]
    }
   ],
   "source": [
    "temp_array = np.zeros(grid.bins, dtype=np.complex)\n",
    "%timeit f3(positions, temp_array, qx3, qy3, qz3)\n",
    "print(temp_array.sum())"
   ]
  },
  {
   "cell_type": "code",
   "execution_count": 11,
   "metadata": {
    "collapsed": true
   },
   "outputs": [],
   "source": [
    "@jit\n",
    "def f1j(positions, temp_array, qx, qy, qz):\n",
    "    for atom in positions:\n",
    "        dotx = np.exp(qx*atom[0]*1j)\n",
    "        doty = np.exp(qy*atom[1]*1j)\n",
    "        dotz = np.exp(qz*atom[2]*1j)\n",
    "        temp_array += dotx * doty * dotz"
   ]
  },
  {
   "cell_type": "code",
   "execution_count": 12,
   "metadata": {},
   "outputs": [
    {
     "name": "stdout",
     "output_type": "stream",
     "text": [
      "145 ms ± 211 µs per loop (mean ± std. dev. of 7 runs, 1 loop each)\n",
      "(33482730.7855+45797616.9285j)\n"
     ]
    }
   ],
   "source": [
    "temp_array = np.zeros(grid.bins, dtype=np.complex)\n",
    "%timeit f1j(positions, temp_array, qx1, qy1, qz1)\n",
    "print(temp_array.sum())"
   ]
  },
  {
   "cell_type": "code",
   "execution_count": 32,
   "metadata": {},
   "outputs": [
    {
     "name": "stdout",
     "output_type": "stream",
     "text": [
      "f1j (array(float64, 2d, A), array(complex128, 3d, C), array(float64, 3d, C), array(float64, 3d, C), array(float64, 3d, C))\n",
      "--------------------------------------------------------------------------------\n",
      "# File: <ipython-input-30-dc5a6c3aa231>\n",
      "# --- LINE 1 --- \n",
      "# label 0\n",
      "\n",
      "@jit()\n",
      "\n",
      "# --- LINE 2 --- \n",
      "\n",
      "def f1j(positions, temp_array, qx, qy, qz):\n",
      "\n",
      "    # --- LINE 3 --- \n",
      "    #   positions = arg(0, name=positions)  :: pyobject\n",
      "    #   temp_array = arg(1, name=temp_array)  :: pyobject\n",
      "    #   qx = arg(2, name=qx)  :: pyobject\n",
      "    #   qy = arg(3, name=qy)  :: pyobject\n",
      "    #   qz = arg(4, name=qz)  :: pyobject\n",
      "    #   jump 2\n",
      "    # label 2\n",
      "    #   $58 = const(LiftedLoop, LiftedLoop(<function f1j at 0x7fb661b09510>))  :: XXX Lifted Loop XXX\n",
      "    #   $59 = call $58(positions, qx, qy, qz, temp_array, func=$58, args=[Var(positions, <ipython-input-30-dc5a6c3aa231> (3)), Var(qx, <ipython-input-30-dc5a6c3aa231> (3)), Var(qy, <ipython-input-30-dc5a6c3aa231> (3)), Var(qz, <ipython-input-30-dc5a6c3aa231> (3)), Var(temp_array, <ipython-input-30-dc5a6c3aa231> (3))], kws=(), vararg=None)  :: XXX Lifted Loop XXX\n",
      "    #   del temp_array\n",
      "    #   del qz\n",
      "    #   del qy\n",
      "    #   del qx\n",
      "    #   del positions\n",
      "    #   del $59\n",
      "    #   del $58\n",
      "    #   jump 96\n",
      "\n",
      "    for atom in positions:\n",
      "\n",
      "        # --- LINE 4 --- \n",
      "\n",
      "        dotx = np.exp(qx*atom[0]*1j)\n",
      "\n",
      "        # --- LINE 5 --- \n",
      "\n",
      "        doty = np.exp(qy*atom[1]*1j)\n",
      "\n",
      "        # --- LINE 6 --- \n",
      "\n",
      "        dotz = np.exp(qz*atom[2]*1j)\n",
      "\n",
      "        # --- LINE 7 --- \n",
      "        # label 96\n",
      "        #   $const96.1 = const(NoneType, None)  :: pyobject\n",
      "        #   $96.2 = cast(value=$const96.1)  :: pyobject\n",
      "        #   del $const96.1\n",
      "        #   return $96.2\n",
      "\n",
      "        temp_array += dotx * doty * dotz\n",
      "\n",
      "# The function contains lifted loops\n",
      "# Loop at line 3\n",
      "# Has 1 overloads\n",
      "# File: <ipython-input-30-dc5a6c3aa231>\n",
      "# --- LINE 1 --- \n",
      "\n",
      "@jit()\n",
      "\n",
      "# --- LINE 2 --- \n",
      "\n",
      "def f1j(positions, temp_array, qx, qy, qz):\n",
      "\n",
      "    # --- LINE 3 --- \n",
      "    # label 1\n",
      "    #   positions = arg(0, name=positions)  :: pyobject\n",
      "    #   qx = arg(1, name=qx)  :: pyobject\n",
      "    #   qy = arg(2, name=qy)  :: pyobject\n",
      "    #   qz = arg(3, name=qz)  :: pyobject\n",
      "    #   temp_array = arg(4, name=temp_array)  :: pyobject\n",
      "    #   jump 2\n",
      "    # label 2\n",
      "    #   $2.2 = getiter(value=positions)  :: pyobject\n",
      "    #   del positions\n",
      "    #   $phi6.1 = $2.2  :: pyobject\n",
      "    #   del $2.2\n",
      "    #   jump 6\n",
      "    # label 6\n",
      "    #   $6.2 = iternext(value=$phi6.1)  :: pyobject\n",
      "    #   $6.3 = pair_first(value=$6.2)  :: pyobject\n",
      "    #   $6.4 = pair_second(value=$6.2)  :: pyobject\n",
      "    #   del $6.2\n",
      "    #   $phi8.1 = $6.3  :: pyobject\n",
      "    #   $phi94.1 = $6.3  :: pyobject\n",
      "    #   del $phi94.1\n",
      "    #   del $6.3\n",
      "    #   $phi94.2 = $phi6.1  :: pyobject\n",
      "    #   del $phi94.2\n",
      "    #   branch $6.4, 8, 94\n",
      "    # label 8\n",
      "    #   del $6.4\n",
      "    #   atom = $phi8.1  :: pyobject\n",
      "    #   del $phi8.1\n",
      "    #   del $8.2\n",
      "    #   del $const8.6\n",
      "    #   del $8.7\n",
      "    #   del $const8.9\n",
      "    #   del $8.8\n",
      "    #   del $8.3\n",
      "    #   del $8.10\n",
      "    #   del $8.11\n",
      "    #   del $8.12\n",
      "    #   del $const8.16\n",
      "    #   del $8.17\n",
      "    #   del $const8.19\n",
      "    #   del $8.18\n",
      "    #   del $8.20\n",
      "    #   del $8.13\n",
      "    #   del $8.21\n",
      "    #   del $8.22\n",
      "    #   del atom\n",
      "    #   del $const8.26\n",
      "    #   del $8.27\n",
      "    #   del $const8.29\n",
      "    #   del $8.28\n",
      "    #   del $8.30\n",
      "    #   del $8.23\n",
      "    #   del $8.31\n",
      "    #   del doty\n",
      "    #   del dotx\n",
      "    #   del dotz\n",
      "    #   del $8.35\n",
      "    #   del $8.37\n",
      "    #   del $8.38\n",
      "    # label 96\n",
      "    #   $57 = build_tuple(items=[])  :: pyobject\n",
      "    #   return $57\n",
      "\n",
      "    for atom in positions:\n",
      "\n",
      "        # --- LINE 4 --- \n",
      "        #   $8.2 = global(np: <module 'numpy' from '/usr/lib/python3.6/site-packages/numpy/__init__.py'>)  :: pyobject\n",
      "        #   $8.3 = getattr(value=$8.2, attr=exp)  :: pyobject\n",
      "        #   $const8.6 = const(int, 0)  :: pyobject\n",
      "        #   $8.7 = getitem(value=atom, index=$const8.6)  :: pyobject\n",
      "        #   $8.8 = qx * $8.7  :: pyobject\n",
      "        #   $const8.9 = const(complex, 1j)  :: pyobject\n",
      "        #   $8.10 = $8.8 * $const8.9  :: pyobject\n",
      "        #   $8.11 = call $8.3($8.10, func=$8.3, args=[Var($8.10, <ipython-input-30-dc5a6c3aa231> (4))], kws=(), vararg=None)  :: pyobject\n",
      "        #   dotx = $8.11  :: pyobject\n",
      "\n",
      "        dotx = np.exp(qx*atom[0]*1j)\n",
      "\n",
      "        # --- LINE 5 --- \n",
      "        #   $8.12 = global(np: <module 'numpy' from '/usr/lib/python3.6/site-packages/numpy/__init__.py'>)  :: pyobject\n",
      "        #   $8.13 = getattr(value=$8.12, attr=exp)  :: pyobject\n",
      "        #   $const8.16 = const(int, 1)  :: pyobject\n",
      "        #   $8.17 = getitem(value=atom, index=$const8.16)  :: pyobject\n",
      "        #   $8.18 = qy * $8.17  :: pyobject\n",
      "        #   $const8.19 = const(complex, 1j)  :: pyobject\n",
      "        #   $8.20 = $8.18 * $const8.19  :: pyobject\n",
      "        #   $8.21 = call $8.13($8.20, func=$8.13, args=[Var($8.20, <ipython-input-30-dc5a6c3aa231> (5))], kws=(), vararg=None)  :: pyobject\n",
      "        #   doty = $8.21  :: pyobject\n",
      "\n",
      "        doty = np.exp(qy*atom[1]*1j)\n",
      "\n",
      "        # --- LINE 6 --- \n",
      "        #   $8.22 = global(np: <module 'numpy' from '/usr/lib/python3.6/site-packages/numpy/__init__.py'>)  :: pyobject\n",
      "        #   $8.23 = getattr(value=$8.22, attr=exp)  :: pyobject\n",
      "        #   $const8.26 = const(int, 2)  :: pyobject\n",
      "        #   $8.27 = getitem(value=atom, index=$const8.26)  :: pyobject\n",
      "        #   $8.28 = qz * $8.27  :: pyobject\n",
      "        #   $const8.29 = const(complex, 1j)  :: pyobject\n",
      "        #   $8.30 = $8.28 * $const8.29  :: pyobject\n",
      "        #   $8.31 = call $8.23($8.30, func=$8.23, args=[Var($8.30, <ipython-input-30-dc5a6c3aa231> (6))], kws=(), vararg=None)  :: pyobject\n",
      "        #   dotz = $8.31  :: pyobject\n",
      "\n",
      "        dotz = np.exp(qz*atom[2]*1j)\n",
      "\n",
      "        # --- LINE 7 --- \n",
      "        #   $8.35 = dotx * doty  :: pyobject\n",
      "        #   $8.37 = $8.35 * dotz  :: pyobject\n",
      "        #   $8.38 = inplace_binop(fn=+=, immutable_fn=+, lhs=temp_array, rhs=$8.37, static_lhs=<object object at 0x7fb6986e3f70>, static_rhs=<object object at 0x7fb6986e3f70>)  :: pyobject\n",
      "        #   temp_array = $8.38  :: pyobject\n",
      "        #   jump 6\n",
      "        # label 94\n",
      "        #   del temp_array\n",
      "        #   del qz\n",
      "        #   del qy\n",
      "        #   del qx\n",
      "        #   del $phi8.1\n",
      "        #   del $phi6.1\n",
      "        #   del $6.4\n",
      "        #   jump 96\n",
      "\n",
      "        temp_array += dotx * doty * dotz\n",
      "\n",
      "\n",
      "\n",
      "================================================================================\n"
     ]
    }
   ],
   "source": [
    "f1j.inspect_types()"
   ]
  },
  {
   "cell_type": "code",
   "execution_count": 13,
   "metadata": {
    "collapsed": true
   },
   "outputs": [],
   "source": [
    "@jit\n",
    "def f2j(positions, temp_array, qx, qy, qz):\n",
    "    for atom in positions:\n",
    "        dot = qx*atom[0] + qy*atom[1] + qz*atom[2]\n",
    "        temp_array += np.exp(dot*1j)"
   ]
  },
  {
   "cell_type": "code",
   "execution_count": 15,
   "metadata": {},
   "outputs": [
    {
     "name": "stdout",
     "output_type": "stream",
     "text": [
      "702 ms ± 640 µs per loop (mean ± std. dev. of 7 runs, 1 loop each)\n",
      "(33482730.7855+45797616.9285j)\n"
     ]
    }
   ],
   "source": [
    "temp_array = np.zeros(grid.bins, dtype=np.complex)\n",
    "%timeit f2j(positions, temp_array, qx2, qy2, qz2)\n",
    "print(temp_array.sum())"
   ]
  },
  {
   "cell_type": "code",
   "execution_count": 13,
   "metadata": {},
   "outputs": [],
   "source": [
    "@jit(nopython=True)\n",
    "def f2j2(positions, temp_array, qx, qy, qz):\n",
    "    N = positions.shape[0]\n",
    "    A, B, C = temp_array.shape\n",
    "    for n in range(N):\n",
    "        for i in range(A):\n",
    "            for j in range(B):\n",
    "                for k in range(C):\n",
    "                    temp_array += np.exp(qx[i,j,k]*positions[n,0] + qy[i,j,k]*positions[n,1] + qz[i,j,k]*positions[n,2])\n"
   ]
  },
  {
   "cell_type": "code",
   "execution_count": 10,
   "metadata": {},
   "outputs": [
    {
     "name": "stdout",
     "output_type": "stream",
     "text": [
      "3.49 s ± 1.65 ms per loop (mean ± std. dev. of 7 runs, 1 loop each)\n",
      "(7632659425.35+2460363625.42j)\n"
     ]
    }
   ],
   "source": [
    "temp_array = np.zeros(grid.bins, dtype=np.complex)\n",
    "%timeit f2j2(positions, temp_array, qx3, qy3, qz3)\n",
    "print(temp_array.sum())"
   ]
  },
  {
   "cell_type": "code",
   "execution_count": 11,
   "metadata": {},
   "outputs": [
    {
     "name": "stdout",
     "output_type": "stream",
     "text": [
      "f2j2 (array(float64, 2d, A), array(complex128, 3d, C), array(complex128, 3d, C), array(complex128, 3d, C), array(complex128, 3d, C))\n",
      "--------------------------------------------------------------------------------\n",
      "# File: <ipython-input-9-8d30d923554e>\n",
      "# --- LINE 1 --- \n",
      "# label 0\n",
      "#   del $const0.3\n",
      "#   del $0.2\n",
      "#   del $0.6\n",
      "#   del $0.10\n",
      "#   del $24.1\n",
      "#   del $0.4\n",
      "#   del $24.3\n",
      "\n",
      "@jit(nopython=True,parallel=True)\n",
      "\n",
      "# --- LINE 2 --- \n",
      "\n",
      "def f2j2(positions, temp_array, qx, qy, qz):\n",
      "\n",
      "    # --- LINE 3 --- \n",
      "    #   positions = arg(0, name=positions)  :: array(float64, 2d, A)\n",
      "    #   temp_array = arg(1, name=temp_array)  :: array(complex128, 3d, C)\n",
      "    #   qx = arg(2, name=qx)  :: array(complex128, 3d, C)\n",
      "    #   qy = arg(3, name=qy)  :: array(complex128, 3d, C)\n",
      "    #   qz = arg(4, name=qz)  :: array(complex128, 3d, C)\n",
      "    #   $0.2 = getattr(value=positions, attr=shape)  :: (int64 x 2)\n",
      "    #   $const0.3 = const(int, 0)  :: int64\n",
      "    #   $0.4 = static_getitem(value=$0.2, index=0, index_var=$const0.3)  :: int64\n",
      "\n",
      "    N = positions.shape[0]\n",
      "\n",
      "    # --- LINE 4 --- \n",
      "    #   $0.6 = getattr(value=temp_array, attr=shape)  :: (int64 x 3)\n",
      "    #   $0.10 = exhaust_iter(value=$0.6, count=3)  :: (int64 x 3)\n",
      "    #   $0.7 = static_getitem(value=$0.10, index=0, index_var=None)  :: int64\n",
      "    #   $0.8 = static_getitem(value=$0.10, index=1, index_var=None)  :: int64\n",
      "    #   $0.9 = static_getitem(value=$0.10, index=2, index_var=None)  :: int64\n",
      "\n",
      "    A, B, C = temp_array.shape\n",
      "\n",
      "    # --- LINE 5 --- \n",
      "    #   $24.1 = global(range: <class 'range'>)  :: Function(<class 'range'>)\n",
      "    #   $24.3 = call $24.1($0.4, func=$24.1, args=[Var($0.4, <ipython-input-9-8d30d923554e> (3))], kws=(), vararg=None)  :: (int64,) -> range_state_int64\n",
      "    #   $24.4 = getiter(value=$24.3)  :: range_iter_int64\n",
      "    #   jump 1\n",
      "    # label 32\n",
      "    #   $32.2 = iternext(value=$24.4)  :: pair<int64, bool>\n",
      "    #   $32.3 = pair_first(value=$32.2)  :: int64\n",
      "    #   $32.4 = pair_second(value=$32.2)  :: bool\n",
      "    #   del $32.2\n",
      "    #   branch $32.4, 2, 12\n",
      "    # label 34\n",
      "    #   del $32.4\n",
      "    #   del $38.1\n",
      "    #   del $38.3\n",
      "\n",
      "    for n in range(N):\n",
      "\n",
      "        # --- LINE 6 --- \n",
      "        #   $38.1 = global(range: <class 'range'>)  :: Function(<class 'range'>)\n",
      "        #   $38.3 = call $38.1($0.7, func=$38.1, args=[Var($0.7, <ipython-input-9-8d30d923554e> (4))], kws=(), vararg=None)  :: (int64,) -> range_state_int64\n",
      "        #   $38.4 = getiter(value=$38.3)  :: range_iter_int64\n",
      "        #   jump 3\n",
      "        # label 46\n",
      "        #   $46.2 = iternext(value=$38.4)  :: pair<int64, bool>\n",
      "        #   $46.3 = pair_first(value=$46.2)  :: int64\n",
      "        #   $46.4 = pair_second(value=$46.2)  :: bool\n",
      "        #   del $46.2\n",
      "        #   branch $46.4, 4, 11\n",
      "        # label 48\n",
      "        #   del $46.4\n",
      "        #   del $52.1\n",
      "        #   del $52.3\n",
      "\n",
      "        for i in range(A):\n",
      "\n",
      "            # --- LINE 7 --- \n",
      "            #   $52.1 = global(range: <class 'range'>)  :: Function(<class 'range'>)\n",
      "            #   $52.3 = call $52.1($0.8, func=$52.1, args=[Var($0.8, <ipython-input-9-8d30d923554e> (4))], kws=(), vararg=None)  :: (int64,) -> range_state_int64\n",
      "            #   $52.4 = getiter(value=$52.3)  :: range_iter_int64\n",
      "            #   jump 5\n",
      "            # label 60\n",
      "            #   $60.2 = iternext(value=$52.4)  :: pair<int64, bool>\n",
      "            #   $60.3 = pair_first(value=$60.2)  :: int64\n",
      "            #   $60.4 = pair_second(value=$60.2)  :: bool\n",
      "            #   del $60.2\n",
      "            #   branch $60.4, 6, 10\n",
      "            # label 62\n",
      "            #   del $60.4\n",
      "            #   del $66.1\n",
      "            #   del $66.3\n",
      "\n",
      "            for j in range(B):\n",
      "\n",
      "                # --- LINE 8 --- \n",
      "                #   $66.1 = global(range: <class 'range'>)  :: Function(<class 'range'>)\n",
      "                #   $66.3 = call $66.1($0.9, func=$66.1, args=[Var($0.9, <ipython-input-9-8d30d923554e> (4))], kws=(), vararg=None)  :: (int64,) -> range_state_int64\n",
      "                #   $66.4 = getiter(value=$66.3)  :: range_iter_int64\n",
      "                #   jump 7\n",
      "                # label 74\n",
      "                #   $74.2 = iternext(value=$66.4)  :: pair<int64, bool>\n",
      "                #   $74.3 = pair_first(value=$74.2)  :: int64\n",
      "                #   $74.4 = pair_second(value=$74.2)  :: bool\n",
      "                #   del $74.2\n",
      "                #   branch $74.4, 8, 9\n",
      "                # label 76\n",
      "                #   del $74.4\n",
      "                #   del $76.3\n",
      "                #   del $76.9\n",
      "                #   del $const76.13\n",
      "                #   del $76.14\n",
      "                #   del $76.15\n",
      "                #   del $76.10\n",
      "                #   del $76.21\n",
      "                #   del $const76.25\n",
      "                #   del $76.26\n",
      "                #   del $76.27\n",
      "                #   del $76.22\n",
      "                #   del $76.28\n",
      "                #   del $76.16\n",
      "                #   del $74.3\n",
      "                #   del $76.34\n",
      "                #   del $const76.38\n",
      "                #   del $76.39\n",
      "                #   del $76.40\n",
      "                #   del $76.35\n",
      "                #   del $76.41\n",
      "                #   del $76.29\n",
      "                #   del $76.42\n",
      "                #   del $76.4\n",
      "                #   del $76.43\n",
      "                #   del $76.44\n",
      "\n",
      "                for k in range(C):\n",
      "\n",
      "                    # --- LINE 9 --- \n",
      "                    #   $76.3 = global(np: <module 'numpy' from '/usr/lib/python3.6/site-packages/numpy/__init__.py'>)  :: Module(<module 'numpy' from '/usr/lib/python3.6/site-packages/numpy/__init__.py'>)\n",
      "                    #   $76.4 = getattr(value=$76.3, attr=exp)  :: Function(<ufunc 'exp'>)\n",
      "                    #   $76.9 = build_tuple(items=[Var($46.3, <ipython-input-9-8d30d923554e> (6)), Var($60.3, <ipython-input-9-8d30d923554e> (7)), Var($74.3, <ipython-input-9-8d30d923554e> (8))])  :: (int64 x 3)\n",
      "                    #   $76.10 = getitem(value=qx, index=$76.9)  :: complex128\n",
      "                    #   $const76.13 = const(int, 0)  :: int64\n",
      "                    #   $76.14 = build_tuple(items=[Var($32.3, <ipython-input-9-8d30d923554e> (5)), Var($const76.13, <ipython-input-9-8d30d923554e> (9))])  :: (int64 x 2)\n",
      "                    #   $76.15 = getitem(value=positions, index=$76.14)  :: float64\n",
      "                    #   $76.16 = $76.10 * $76.15  :: complex128\n",
      "                    #   $76.21 = build_tuple(items=[Var($46.3, <ipython-input-9-8d30d923554e> (6)), Var($60.3, <ipython-input-9-8d30d923554e> (7)), Var($74.3, <ipython-input-9-8d30d923554e> (8))])  :: (int64 x 3)\n",
      "                    #   $76.22 = getitem(value=qy, index=$76.21)  :: complex128\n",
      "                    #   $const76.25 = const(int, 1)  :: int64\n",
      "                    #   $76.26 = build_tuple(items=[Var($32.3, <ipython-input-9-8d30d923554e> (5)), Var($const76.25, <ipython-input-9-8d30d923554e> (9))])  :: (int64 x 2)\n",
      "                    #   $76.27 = getitem(value=positions, index=$76.26)  :: float64\n",
      "                    #   $76.28 = $76.22 * $76.27  :: complex128\n",
      "                    #   $76.29 = $76.16 + $76.28  :: complex128\n",
      "                    #   $76.34 = build_tuple(items=[Var($46.3, <ipython-input-9-8d30d923554e> (6)), Var($60.3, <ipython-input-9-8d30d923554e> (7)), Var($74.3, <ipython-input-9-8d30d923554e> (8))])  :: (int64 x 3)\n",
      "                    #   $76.35 = getitem(value=qz, index=$76.34)  :: complex128\n",
      "                    #   $const76.38 = const(int, 2)  :: int64\n",
      "                    #   $76.39 = build_tuple(items=[Var($32.3, <ipython-input-9-8d30d923554e> (5)), Var($const76.38, <ipython-input-9-8d30d923554e> (9))])  :: (int64 x 2)\n",
      "                    #   $76.40 = getitem(value=positions, index=$76.39)  :: float64\n",
      "                    #   $76.41 = $76.35 * $76.40  :: complex128\n",
      "                    #   $76.42 = $76.29 + $76.41  :: complex128\n",
      "                    #   $76.43 = call $76.4($76.42, func=$76.4, args=[Var($76.42, <ipython-input-9-8d30d923554e> (9))], kws=(), vararg=None)  :: (complex128,) -> complex128\n",
      "                    #   $76.44 = inplace_binop(fn=+=, immutable_fn=+, lhs=temp_array, rhs=$76.43, static_lhs=<object object at 0x7f03f27adf70>, static_rhs=<object object at 0x7f03f27adf70>)  :: array(complex128, 3d, C)\n",
      "                    #   temp_array = $76.44  :: array(complex128, 3d, C)\n",
      "                    #   jump 7\n",
      "                    # label 168\n",
      "                    #   del $74.4\n",
      "                    #   del $74.3\n",
      "                    #   del $66.4\n",
      "                    #   del $60.3\n",
      "                    #   jump 5\n",
      "                    # label 172\n",
      "                    #   del $60.4\n",
      "                    #   del $60.3\n",
      "                    #   del $52.4\n",
      "                    #   del $46.3\n",
      "                    #   jump 3\n",
      "                    # label 176\n",
      "                    #   del $46.4\n",
      "                    #   del $46.3\n",
      "                    #   del $38.4\n",
      "                    #   del $32.3\n",
      "                    #   jump 1\n",
      "                    # label 180\n",
      "                    #   del temp_array\n",
      "                    #   del qz\n",
      "                    #   del qy\n",
      "                    #   del qx\n",
      "                    #   del positions\n",
      "                    #   del $32.4\n",
      "                    #   del $32.3\n",
      "                    #   del $24.4\n",
      "                    #   del $0.9\n",
      "                    #   del $0.8\n",
      "                    #   del $0.7\n",
      "                    #   $const182.1 = const(NoneType, None)  :: none\n",
      "                    #   $182.2 = cast(value=$const182.1)  :: none\n",
      "                    #   del $const182.1\n",
      "                    #   return $182.2\n",
      "\n",
      "                    temp_array += np.exp(qx[i,j,k]*positions[n,0] + qy[i,j,k]*positions[n,1] + qz[i,j,k]*positions[n,2])\n",
      "\n",
      "\n",
      "================================================================================\n"
     ]
    }
   ],
   "source": [
    "f2j2.inspect_types()"
   ]
  },
  {
   "cell_type": "code",
   "execution_count": null,
   "metadata": {
    "collapsed": true
   },
   "outputs": [],
   "source": []
  }
 ],
 "metadata": {
  "kernelspec": {
   "display_name": "Python 3",
   "language": "python",
   "name": "python3"
  },
  "language_info": {
   "codemirror_mode": {
    "name": "ipython",
    "version": 3
   },
   "file_extension": ".py",
   "mimetype": "text/x-python",
   "name": "python",
   "nbconvert_exporter": "python",
   "pygments_lexer": "ipython3",
   "version": "3.6.3"
  }
 },
 "nbformat": 4,
 "nbformat_minor": 2
}
